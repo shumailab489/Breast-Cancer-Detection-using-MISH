{
 "cells": [
  {
   "cell_type": "code",
   "execution_count": 1,
   "id": "b018572c",
   "metadata": {
    "execution": {
     "iopub.execute_input": "2024-03-09T04:47:03.053990Z",
     "iopub.status.busy": "2024-03-09T04:47:03.053632Z",
     "iopub.status.idle": "2024-03-09T04:47:24.386118Z",
     "shell.execute_reply": "2024-03-09T04:47:24.385294Z"
    },
    "papermill": {
     "duration": 21.34105,
     "end_time": "2024-03-09T04:47:24.388481",
     "exception": false,
     "start_time": "2024-03-09T04:47:03.047431",
     "status": "completed"
    },
    "tags": []
   },
   "outputs": [
    {
     "name": "stderr",
     "output_type": "stream",
     "text": [
      "2024-03-09 04:47:07.982879: E external/local_xla/xla/stream_executor/cuda/cuda_dnn.cc:9261] Unable to register cuDNN factory: Attempting to register factory for plugin cuDNN when one has already been registered\n",
      "2024-03-09 04:47:07.983009: E external/local_xla/xla/stream_executor/cuda/cuda_fft.cc:607] Unable to register cuFFT factory: Attempting to register factory for plugin cuFFT when one has already been registered\n",
      "2024-03-09 04:47:08.295453: E external/local_xla/xla/stream_executor/cuda/cuda_blas.cc:1515] Unable to register cuBLAS factory: Attempting to register factory for plugin cuBLAS when one has already been registered\n"
     ]
    }
   ],
   "source": [
    "import numpy as np \n",
    "import pandas as pd \n",
    "import os\n",
    "import shutil\n",
    "import glob\n",
    "import random\n",
    "from tensorflow.keras.preprocessing.image import ImageDataGenerator\n",
    "import tensorflow as tf"
   ]
  },
  {
   "cell_type": "code",
   "execution_count": 2,
   "id": "c8cb9167",
   "metadata": {
    "execution": {
     "iopub.execute_input": "2024-03-09T04:47:24.400030Z",
     "iopub.status.busy": "2024-03-09T04:47:24.399449Z",
     "iopub.status.idle": "2024-03-09T04:47:24.409605Z",
     "shell.execute_reply": "2024-03-09T04:47:24.408722Z"
    },
    "papermill": {
     "duration": 0.01785,
     "end_time": "2024-03-09T04:47:24.411494",
     "exception": false,
     "start_time": "2024-03-09T04:47:24.393644",
     "status": "completed"
    },
    "tags": []
   },
   "outputs": [],
   "source": [
    "def create_data_path(base_path,input_path):\n",
    "    try:\n",
    "        os.makedirs(os.path.join(base_path,'training'))\n",
    "        os.makedirs(os.path.join(base_path, 'training/0'))\n",
    "        os.makedirs(os.path.join(base_path, 'training/1'))\n",
    "        os.makedirs(os.path.join(base_path,'validation'))\n",
    "        os.makedirs(os.path.join(base_path, 'validation/1'))\n",
    "        os.makedirs(os.path.join(base_path, 'validation/0'))\n",
    "    except:\n",
    "        print(\"the folders already exist\")\n",
    "    list_dir=glob.glob(os.path.join(input_path,'*'))\n",
    "    print(list_dir)\n",
    "    for id in list_dir:\n",
    "        list_file_0=glob.glob(os.path.join(id,'0/*'))\n",
    "        list_file_1= glob.glob(os.path.join(id, '1/*'))\n",
    "        for file_0 in list_file_0:\n",
    "            src_path = file_0\n",
    "            dst_path = os.path.join(os.path.join(base_path, 'training/0'), os.path.basename(file_0))\n",
    "            shutil.copy(src_path, dst_path)\n",
    "\n",
    "        for file_1 in list_file_1:\n",
    "            src_path = file_1\n",
    "            dst_path = os.path.join(os.path.join(base_path, 'training/1'), os.path.basename(file_1))\n",
    "            shutil.copy(src_path, dst_path)\n",
    "            "
   ]
  },
  {
   "cell_type": "code",
   "execution_count": 3,
   "id": "cee7bcc9",
   "metadata": {
    "execution": {
     "iopub.execute_input": "2024-03-09T04:47:24.422076Z",
     "iopub.status.busy": "2024-03-09T04:47:24.421763Z",
     "iopub.status.idle": "2024-03-09T04:47:24.426782Z",
     "shell.execute_reply": "2024-03-09T04:47:24.425928Z"
    },
    "papermill": {
     "duration": 0.012425,
     "end_time": "2024-03-09T04:47:24.428731",
     "exception": false,
     "start_time": "2024-03-09T04:47:24.416306",
     "status": "completed"
    },
    "tags": []
   },
   "outputs": [],
   "source": [
    "def remove_dir(base_path):\n",
    "    try:\n",
    "        shutil.rmtree(os.path.join(base_path,'training'))\n",
    "        shutil.rmtree(os.path.join(base_path,'validation'))\n",
    "    except Exception as e:\n",
    "        print(\"problem removing directories\")\n",
    "        print(str(e))"
   ]
  },
  {
   "cell_type": "code",
   "execution_count": 4,
   "id": "df29a89a",
   "metadata": {
    "execution": {
     "iopub.execute_input": "2024-03-09T04:47:24.439436Z",
     "iopub.status.busy": "2024-03-09T04:47:24.438664Z",
     "iopub.status.idle": "2024-03-09T04:47:24.443586Z",
     "shell.execute_reply": "2024-03-09T04:47:24.442511Z"
    },
    "papermill": {
     "duration": 0.012486,
     "end_time": "2024-03-09T04:47:24.445759",
     "exception": false,
     "start_time": "2024-03-09T04:47:24.433273",
     "status": "completed"
    },
    "tags": []
   },
   "outputs": [
    {
     "name": "stdout",
     "output_type": "stream",
     "text": [
      "problem removing directories\n",
      "[Errno 2] No such file or directory: '/kaggle/working/training'\n"
     ]
    }
   ],
   "source": [
    "#for cleanup\n",
    "remove_dir('/kaggle/working/')"
   ]
  },
  {
   "cell_type": "code",
   "execution_count": 5,
   "id": "be4cd48e",
   "metadata": {
    "execution": {
     "iopub.execute_input": "2024-03-09T04:47:24.455805Z",
     "iopub.status.busy": "2024-03-09T04:47:24.455545Z",
     "iopub.status.idle": "2024-03-09T05:22:17.996360Z",
     "shell.execute_reply": "2024-03-09T05:22:17.995319Z"
    },
    "papermill": {
     "duration": 2093.548371,
     "end_time": "2024-03-09T05:22:17.998764",
     "exception": false,
     "start_time": "2024-03-09T04:47:24.450393",
     "status": "completed"
    },
    "tags": []
   },
   "outputs": [
    {
     "name": "stdout",
     "output_type": "stream",
     "text": [
      "['/kaggle/input/breast-histopathology-images/10295', '/kaggle/input/breast-histopathology-images/10304', '/kaggle/input/breast-histopathology-images/12868', '/kaggle/input/breast-histopathology-images/10274', '/kaggle/input/breast-histopathology-images/12818', '/kaggle/input/breast-histopathology-images/14190', '/kaggle/input/breast-histopathology-images/12869', '/kaggle/input/breast-histopathology-images/9323', '/kaggle/input/breast-histopathology-images/10291', '/kaggle/input/breast-histopathology-images/12906', '/kaggle/input/breast-histopathology-images/9176', '/kaggle/input/breast-histopathology-images/8984', '/kaggle/input/breast-histopathology-images/10299', '/kaggle/input/breast-histopathology-images/12930', '/kaggle/input/breast-histopathology-images/9344', '/kaggle/input/breast-histopathology-images/12935', '/kaggle/input/breast-histopathology-images/12894', '/kaggle/input/breast-histopathology-images/12909', '/kaggle/input/breast-histopathology-images/9381', '/kaggle/input/breast-histopathology-images/9346', '/kaggle/input/breast-histopathology-images/9175', '/kaggle/input/breast-histopathology-images/10262', '/kaggle/input/breast-histopathology-images/8980', '/kaggle/input/breast-histopathology-images/16896', '/kaggle/input/breast-histopathology-images/12241', '/kaggle/input/breast-histopathology-images/12910', '/kaggle/input/breast-histopathology-images/13617', '/kaggle/input/breast-histopathology-images/13401', '/kaggle/input/breast-histopathology-images/12891', '/kaggle/input/breast-histopathology-images/10300', '/kaggle/input/breast-histopathology-images/9076', '/kaggle/input/breast-histopathology-images/10259', '/kaggle/input/breast-histopathology-images/9124', '/kaggle/input/breast-histopathology-images/13402', '/kaggle/input/breast-histopathology-images/12870', '/kaggle/input/breast-histopathology-images/16550', '/kaggle/input/breast-histopathology-images/10255', '/kaggle/input/breast-histopathology-images/9261', '/kaggle/input/breast-histopathology-images/15471', '/kaggle/input/breast-histopathology-images/12931', '/kaggle/input/breast-histopathology-images/12955', '/kaggle/input/breast-histopathology-images/10258', '/kaggle/input/breast-histopathology-images/13461', '/kaggle/input/breast-histopathology-images/13023', '/kaggle/input/breast-histopathology-images/9260', '/kaggle/input/breast-histopathology-images/8957', '/kaggle/input/breast-histopathology-images/9035', '/kaggle/input/breast-histopathology-images/10268', '/kaggle/input/breast-histopathology-images/13403', '/kaggle/input/breast-histopathology-images/10288', '/kaggle/input/breast-histopathology-images/9262', '/kaggle/input/breast-histopathology-images/12911', '/kaggle/input/breast-histopathology-images/9319', '/kaggle/input/breast-histopathology-images/10254', '/kaggle/input/breast-histopathology-images/13616', '/kaggle/input/breast-histopathology-images/10253', '/kaggle/input/breast-histopathology-images/8974', '/kaggle/input/breast-histopathology-images/9135', '/kaggle/input/breast-histopathology-images/10257', '/kaggle/input/breast-histopathology-images/9291', '/kaggle/input/breast-histopathology-images/9320', '/kaggle/input/breast-histopathology-images/14209', '/kaggle/input/breast-histopathology-images/14078', '/kaggle/input/breast-histopathology-images/12749', '/kaggle/input/breast-histopathology-images/9043', '/kaggle/input/breast-histopathology-images/9041', '/kaggle/input/breast-histopathology-images/8975', '/kaggle/input/breast-histopathology-images/9075', '/kaggle/input/breast-histopathology-images/13025', '/kaggle/input/breast-histopathology-images/13021', '/kaggle/input/breast-histopathology-images/13458', '/kaggle/input/breast-histopathology-images/12901', '/kaggle/input/breast-histopathology-images/16552', '/kaggle/input/breast-histopathology-images/13688', '/kaggle/input/breast-histopathology-images/15902', '/kaggle/input/breast-histopathology-images/13692', '/kaggle/input/breast-histopathology-images/12879', '/kaggle/input/breast-histopathology-images/9073', '/kaggle/input/breast-histopathology-images/15514', '/kaggle/input/breast-histopathology-images/9325', '/kaggle/input/breast-histopathology-images/10277', '/kaggle/input/breast-histopathology-images/12810', '/kaggle/input/breast-histopathology-images/8864', '/kaggle/input/breast-histopathology-images/8917', '/kaggle/input/breast-histopathology-images/14305', '/kaggle/input/breast-histopathology-images/16167', '/kaggle/input/breast-histopathology-images/13022', '/kaggle/input/breast-histopathology-images/16555', '/kaggle/input/breast-histopathology-images/12932', '/kaggle/input/breast-histopathology-images/14189', '/kaggle/input/breast-histopathology-images/8867', '/kaggle/input/breast-histopathology-images/16166', '/kaggle/input/breast-histopathology-images/10290', '/kaggle/input/breast-histopathology-images/9083', '/kaggle/input/breast-histopathology-images/15840', '/kaggle/input/breast-histopathology-images/12907', '/kaggle/input/breast-histopathology-images/12880', '/kaggle/input/breast-histopathology-images/12908', '/kaggle/input/breast-histopathology-images/13693', '/kaggle/input/breast-histopathology-images/13591', '/kaggle/input/breast-histopathology-images/15516', '/kaggle/input/breast-histopathology-images/9228', '/kaggle/input/breast-histopathology-images/14192', '/kaggle/input/breast-histopathology-images/12949', '/kaggle/input/breast-histopathology-images/10306', '/kaggle/input/breast-histopathology-images/9345', '/kaggle/input/breast-histopathology-images/14156', '/kaggle/input/breast-histopathology-images/12872', '/kaggle/input/breast-histopathology-images/9123', '/kaggle/input/breast-histopathology-images/13019', '/kaggle/input/breast-histopathology-images/9226', '/kaggle/input/breast-histopathology-images/14304', '/kaggle/input/breast-histopathology-images/10260', '/kaggle/input/breast-histopathology-images/14154', '/kaggle/input/breast-histopathology-images/15472', '/kaggle/input/breast-histopathology-images/15903', '/kaggle/input/breast-histopathology-images/12826', '/kaggle/input/breast-histopathology-images/13020', '/kaggle/input/breast-histopathology-images/16569', '/kaggle/input/breast-histopathology-images/14191', '/kaggle/input/breast-histopathology-images/16568', '/kaggle/input/breast-histopathology-images/16570', '/kaggle/input/breast-histopathology-images/13459', '/kaggle/input/breast-histopathology-images/8956', '/kaggle/input/breast-histopathology-images/13106', '/kaggle/input/breast-histopathology-images/10261', '/kaggle/input/breast-histopathology-images/9023', '/kaggle/input/breast-histopathology-images/13460', '/kaggle/input/breast-histopathology-images/16532', '/kaggle/input/breast-histopathology-images/12819', '/kaggle/input/breast-histopathology-images/12867', '/kaggle/input/breast-histopathology-images/8959', '/kaggle/input/breast-histopathology-images/9265', '/kaggle/input/breast-histopathology-images/9255', '/kaggle/input/breast-histopathology-images/14082', '/kaggle/input/breast-histopathology-images/12929', '/kaggle/input/breast-histopathology-images/8914', '/kaggle/input/breast-histopathology-images/9383', '/kaggle/input/breast-histopathology-images/14210', '/kaggle/input/breast-histopathology-images/10302', '/kaggle/input/breast-histopathology-images/12822', '/kaggle/input/breast-histopathology-images/10276', '/kaggle/input/breast-histopathology-images/10279', '/kaggle/input/breast-histopathology-images/12876', '/kaggle/input/breast-histopathology-images/10269', '/kaggle/input/breast-histopathology-images/8865', '/kaggle/input/breast-histopathology-images/13400', '/kaggle/input/breast-histopathology-images/12948', '/kaggle/input/breast-histopathology-images/12748', '/kaggle/input/breast-histopathology-images/9126', '/kaggle/input/breast-histopathology-images/9266', '/kaggle/input/breast-histopathology-images/9177', '/kaggle/input/breast-histopathology-images/8955', '/kaggle/input/breast-histopathology-images/12900', '/kaggle/input/breast-histopathology-images/9181', '/kaggle/input/breast-histopathology-images/9257', '/kaggle/input/breast-histopathology-images/9322', '/kaggle/input/breast-histopathology-images/12751', '/kaggle/input/breast-histopathology-images/9081', '/kaggle/input/breast-histopathology-images/15634', '/kaggle/input/breast-histopathology-images/10286', '/kaggle/input/breast-histopathology-images/14213', '/kaggle/input/breast-histopathology-images/9256', '/kaggle/input/breast-histopathology-images/10308', '/kaggle/input/breast-histopathology-images/16165', '/kaggle/input/breast-histopathology-images/12823', '/kaggle/input/breast-histopathology-images/9225', '/kaggle/input/breast-histopathology-images/9227', '/kaggle/input/breast-histopathology-images/16551', '/kaggle/input/breast-histopathology-images/13613', '/kaggle/input/breast-histopathology-images/14306', '/kaggle/input/breast-histopathology-images/16085', '/kaggle/input/breast-histopathology-images/16534', '/kaggle/input/breast-histopathology-images/14188', '/kaggle/input/breast-histopathology-images/14212', '/kaggle/input/breast-histopathology-images/12824', '/kaggle/input/breast-histopathology-images/16554', '/kaggle/input/breast-histopathology-images/13691', '/kaggle/input/breast-histopathology-images/13916', '/kaggle/input/breast-histopathology-images/12877', '/kaggle/input/breast-histopathology-images/13024', '/kaggle/input/breast-histopathology-images/10264', '/kaggle/input/breast-histopathology-images/12884', '/kaggle/input/breast-histopathology-images/12750', '/kaggle/input/breast-histopathology-images/14081', '/kaggle/input/breast-histopathology-images/15473', '/kaggle/input/breast-histopathology-images/15839', '/kaggle/input/breast-histopathology-images/12896', '/kaggle/input/breast-histopathology-images/9267', '/kaggle/input/breast-histopathology-images/10278', '/kaggle/input/breast-histopathology-images/16533', '/kaggle/input/breast-histopathology-images/13404', '/kaggle/input/breast-histopathology-images/12893', '/kaggle/input/breast-histopathology-images/12892', '/kaggle/input/breast-histopathology-images/9125', '/kaggle/input/breast-histopathology-images/9029', '/kaggle/input/breast-histopathology-images/14211', '/kaggle/input/breast-histopathology-images/12626', '/kaggle/input/breast-histopathology-images/10275', '/kaggle/input/breast-histopathology-images/9174', '/kaggle/input/breast-histopathology-images/9250', '/kaggle/input/breast-histopathology-images/15515', '/kaggle/input/breast-histopathology-images/9173', '/kaggle/input/breast-histopathology-images/12895', '/kaggle/input/breast-histopathology-images/12897', '/kaggle/input/breast-histopathology-images/12882', '/kaggle/input/breast-histopathology-images/12875', '/kaggle/input/breast-histopathology-images/12905', '/kaggle/input/breast-histopathology-images/13666', '/kaggle/input/breast-histopathology-images/15633', '/kaggle/input/breast-histopathology-images/8863', '/kaggle/input/breast-histopathology-images/12934', '/kaggle/input/breast-histopathology-images/12890', '/kaggle/input/breast-histopathology-images/10305', '/kaggle/input/breast-histopathology-images/9036', '/kaggle/input/breast-histopathology-images/12883', '/kaggle/input/breast-histopathology-images/10307', '/kaggle/input/breast-histopathology-images/14153', '/kaggle/input/breast-histopathology-images/16531', '/kaggle/input/breast-histopathology-images/15632', '/kaggle/input/breast-histopathology-images/12820', '/kaggle/input/breast-histopathology-images/10272', '/kaggle/input/breast-histopathology-images/12871', '/kaggle/input/breast-histopathology-images/9382', '/kaggle/input/breast-histopathology-images/10256', '/kaggle/input/breast-histopathology-images/9258', '/kaggle/input/breast-histopathology-images/16014', '/kaggle/input/breast-histopathology-images/16895', '/kaggle/input/breast-histopathology-images/13462', '/kaggle/input/breast-histopathology-images/14079', '/kaggle/input/breast-histopathology-images/12817', '/kaggle/input/breast-histopathology-images/8918', '/kaggle/input/breast-histopathology-images/8916', '/kaggle/input/breast-histopathology-images/15510', '/kaggle/input/breast-histopathology-images/12878', '/kaggle/input/breast-histopathology-images/12242', '/kaggle/input/breast-histopathology-images/14321', '/kaggle/input/breast-histopathology-images/9044', '/kaggle/input/breast-histopathology-images/9324', '/kaggle/input/breast-histopathology-images/12933', '/kaggle/input/breast-histopathology-images/8951', '/kaggle/input/breast-histopathology-images/10273', '/kaggle/input/breast-histopathology-images/12811', '/kaggle/input/breast-histopathology-images/9078', '/kaggle/input/breast-histopathology-images/14157', '/kaggle/input/breast-histopathology-images/10282', '/kaggle/input/breast-histopathology-images/9290', '/kaggle/input/breast-histopathology-images/13694', '/kaggle/input/breast-histopathology-images/9321', '/kaggle/input/breast-histopathology-images/8950', '/kaggle/input/breast-histopathology-images/15513', '/kaggle/input/breast-histopathology-images/10285', '/kaggle/input/breast-histopathology-images/9022', '/kaggle/input/breast-histopathology-images/16553', '/kaggle/input/breast-histopathology-images/8913', '/kaggle/input/breast-histopathology-images/13018', '/kaggle/input/breast-histopathology-images/12821', '/kaggle/input/breast-histopathology-images/12951', '/kaggle/input/breast-histopathology-images/12898', '/kaggle/input/breast-histopathology-images/13687', '/kaggle/input/breast-histopathology-images/9178', '/kaggle/input/breast-histopathology-images/13689', '/kaggle/input/breast-histopathology-images/12947', '/kaggle/input/breast-histopathology-images/15512', '/kaggle/input/breast-histopathology-images/10303', '/kaggle/input/breast-histopathology-images/12881', '/kaggle/input/breast-histopathology-images/12886', '/kaggle/input/breast-histopathology-images/12752', '/kaggle/input/breast-histopathology-images/9347', '/kaggle/input/breast-histopathology-images/10301', '/kaggle/input/breast-histopathology-images/IDC_regular_ps50_idx5', '/kaggle/input/breast-histopathology-images/9254', '/kaggle/input/breast-histopathology-images/10293', '/kaggle/input/breast-histopathology-images/12954', '/kaggle/input/breast-histopathology-images/9259', '/kaggle/input/breast-histopathology-images/14155', '/kaggle/input/breast-histopathology-images/9077', '/kaggle/input/breast-histopathology-images/10292', '/kaggle/input/breast-histopathology-images/9037', '/kaggle/input/breast-histopathology-images/12873']\n"
     ]
    }
   ],
   "source": [
    "create_data_path('/kaggle/working/','/kaggle/input/breast-histopathology-images/')"
   ]
  },
  {
   "cell_type": "code",
   "execution_count": 6,
   "id": "927cc3fb",
   "metadata": {
    "execution": {
     "iopub.execute_input": "2024-03-09T05:22:18.010365Z",
     "iopub.status.busy": "2024-03-09T05:22:18.009727Z",
     "iopub.status.idle": "2024-03-09T05:22:18.017252Z",
     "shell.execute_reply": "2024-03-09T05:22:18.016377Z"
    },
    "papermill": {
     "duration": 0.015325,
     "end_time": "2024-03-09T05:22:18.019225",
     "exception": false,
     "start_time": "2024-03-09T05:22:18.003900",
     "status": "completed"
    },
    "tags": []
   },
   "outputs": [],
   "source": [
    "def split_training_validation(base_path,split_size):\n",
    "    list_file_0=glob.glob(os.path.join(base_path,'training/0/*'))\n",
    "    list_file_1 = glob.glob(os.path.join(base_path, 'training/1/*'))\n",
    "    tot_file=list_file_1+list_file_0\n",
    "    random.shuffle(tot_file)\n",
    "    training_set=tot_file[0:int(len(tot_file)*split_size)]\n",
    "    validation_set=tot_file[int(len(tot_file)*split_size):]\n",
    "    for file in validation_set:\n",
    "        if file[-5]=='0':\n",
    "            dst_path = os.path.join(os.path.join(base_path, 'validation/0'), os.path.basename(file))\n",
    "            shutil.copy(file, dst_path)\n",
    "        elif file[-5]=='1':\n",
    "            dst_path = os.path.join(os.path.join(base_path, 'validation/1'), os.path.basename(file))\n",
    "            shutil.copy(file, dst_path)"
   ]
  },
  {
   "cell_type": "code",
   "execution_count": 7,
   "id": "73f802cd",
   "metadata": {
    "execution": {
     "iopub.execute_input": "2024-03-09T05:22:18.029732Z",
     "iopub.status.busy": "2024-03-09T05:22:18.029478Z",
     "iopub.status.idle": "2024-03-09T05:22:26.313346Z",
     "shell.execute_reply": "2024-03-09T05:22:26.312567Z"
    },
    "papermill": {
     "duration": 8.291766,
     "end_time": "2024-03-09T05:22:26.315666",
     "exception": false,
     "start_time": "2024-03-09T05:22:18.023900",
     "status": "completed"
    },
    "tags": []
   },
   "outputs": [],
   "source": [
    "training_split=0.8\n",
    "split_training_validation('/kaggle/working/',training_split)"
   ]
  },
  {
   "cell_type": "code",
   "execution_count": 8,
   "id": "afcf5532",
   "metadata": {
    "execution": {
     "iopub.execute_input": "2024-03-09T05:22:26.326705Z",
     "iopub.status.busy": "2024-03-09T05:22:26.326438Z",
     "iopub.status.idle": "2024-03-09T05:22:26.332862Z",
     "shell.execute_reply": "2024-03-09T05:22:26.331941Z"
    },
    "papermill": {
     "duration": 0.013932,
     "end_time": "2024-03-09T05:22:26.334732",
     "exception": false,
     "start_time": "2024-03-09T05:22:26.320800",
     "status": "completed"
    },
    "tags": []
   },
   "outputs": [],
   "source": [
    "def create_data_generator(base_path,target_size):\n",
    "    # All images will be rescaled by 1./255\n",
    "    train_datagen = ImageDataGenerator(rescale=1 / 255)\n",
    "    validation_datagen = ImageDataGenerator(rescale=1 / 255)\n",
    "\n",
    "    # Flow training images in batches of 128 using train_datagen generator\n",
    "    train_generator = train_datagen.flow_from_directory(\n",
    "        os.path.join(base_path,'training/'),  # This is the source directory for training images\n",
    "        target_size=target_size,  # All images will be resized to 300x300\n",
    "        batch_size=64,\n",
    "        # Since you use binary_crossentropy loss, you need binary labels\n",
    "        class_mode='binary')\n",
    "\n",
    "    # Flow validation images in batches of 128 using validation_datagen generator\n",
    "    validation_generator = validation_datagen.flow_from_directory(\n",
    "        os.path.join(base_path,'validation/'),  # This is the source directory for validation images\n",
    "        target_size=target_size,  \n",
    "        batch_size=32,\n",
    "        # Since you use binary_crossentropy loss, you need binary labels\n",
    "        class_mode='binary')\n",
    "    return train_generator,validation_generator"
   ]
  },
  {
   "cell_type": "code",
   "execution_count": 9,
   "id": "46a071ee",
   "metadata": {
    "execution": {
     "iopub.execute_input": "2024-03-09T05:22:26.345037Z",
     "iopub.status.busy": "2024-03-09T05:22:26.344747Z",
     "iopub.status.idle": "2024-03-09T05:22:34.881919Z",
     "shell.execute_reply": "2024-03-09T05:22:34.880906Z"
    },
    "papermill": {
     "duration": 8.544912,
     "end_time": "2024-03-09T05:22:34.884288",
     "exception": false,
     "start_time": "2024-03-09T05:22:26.339376",
     "status": "completed"
    },
    "tags": []
   },
   "outputs": [
    {
     "name": "stdout",
     "output_type": "stream",
     "text": [
      "Found 277524 images belonging to 2 classes.\n",
      "Found 55505 images belonging to 2 classes.\n"
     ]
    }
   ],
   "source": [
    "train_generator,validation_generator=create_data_generator('/kaggle/working/',(50,50))"
   ]
  },
  {
   "cell_type": "code",
   "execution_count": 10,
   "id": "e7d317fa",
   "metadata": {
    "execution": {
     "iopub.execute_input": "2024-03-09T05:22:34.896389Z",
     "iopub.status.busy": "2024-03-09T05:22:34.895816Z",
     "iopub.status.idle": "2024-03-09T05:22:34.901366Z",
     "shell.execute_reply": "2024-03-09T05:22:34.900475Z"
    },
    "papermill": {
     "duration": 0.013425,
     "end_time": "2024-03-09T05:22:34.903198",
     "exception": false,
     "start_time": "2024-03-09T05:22:34.889773",
     "status": "completed"
    },
    "tags": []
   },
   "outputs": [],
   "source": [
    "class CustomCallback(tf.keras.callbacks.Callback):\n",
    "\n",
    "    def on_epoch_end(self, epoch, logs=None):\n",
    "        keys = list(logs.keys())\n",
    "        if (logs.get('val_accuracy') > 0.95):\n",
    "            print(\"\\nReached 95% accuracy so cancelling training!\")\n",
    "            self.model.stop_training = True"
   ]
  },
  {
   "cell_type": "code",
   "execution_count": 11,
   "id": "b17da282",
   "metadata": {
    "execution": {
     "iopub.execute_input": "2024-03-09T05:22:34.914722Z",
     "iopub.status.busy": "2024-03-09T05:22:34.914451Z",
     "iopub.status.idle": "2024-03-09T05:22:34.924862Z",
     "shell.execute_reply": "2024-03-09T05:22:34.924144Z"
    },
    "papermill": {
     "duration": 0.018469,
     "end_time": "2024-03-09T05:22:34.926794",
     "exception": false,
     "start_time": "2024-03-09T05:22:34.908325",
     "status": "completed"
    },
    "tags": []
   },
   "outputs": [],
   "source": [
    "# Function to define MISH Activation\n",
    "def mish(x):\n",
    "    return x * tf.math.tanh(tf.math.softplus(x))\n",
    "def create_model(input_shape):\n",
    "    model = tf.keras.models.Sequential([\n",
    "        \n",
    "        # This is the first convolution\n",
    "        tf.keras.layers.Conv2D(64, (3, 3), activation=mish, input_shape=input_shape),\n",
    "        tf.keras.layers.BatchNormalization(),\n",
    "        tf.keras.layers.MaxPooling2D(2, 2),\n",
    "        tf.keras.layers.Conv2D(128, (3, 3), activation=mish, input_shape=input_shape),\n",
    "        tf.keras.layers.BatchNormalization(),\n",
    "        tf.keras.layers.MaxPooling2D(2, 2),\n",
    "        tf.keras.layers.Conv2D(256, (3, 3), activation=mish, input_shape=input_shape),\n",
    "        tf.keras.layers.BatchNormalization(),\n",
    "        tf.keras.layers.MaxPooling2D(2, 2),\n",
    "        # Flatten the results to feed into a DNN\n",
    "        tf.keras.layers.Flatten(),\n",
    "        # 512 neuron hidden layer\n",
    "        tf.keras.layers.Dense(128, activation=mish),\n",
    "        tf.keras.layers.Dense(512, activation=mish),\n",
    "        tf.keras.layers.Dropout(0.4),\n",
    "\n",
    "        # Only 1 output neuron. \n",
    "        tf.keras.layers.Dense(1, activation='sigmoid')\n",
    "    ])\n",
    "    my_cb=CustomCallback()\n",
    "    \n",
    "    reduce_lr=tf.keras.callbacks.ReduceLROnPlateau(monitor='val_loss',verbose=1)\n",
    "\n",
    "    model_cp=tf.keras.callbacks.ModelCheckpoint('/kaggle/output',verbose=1)\n",
    "    model.compile(loss='binary_crossentropy',\n",
    "                  optimizer=tf.keras.optimizers.Adam(learning_rate=0.0001),\n",
    "                  metrics=['accuracy'])\n",
    "    return model,[reduce_lr,model_cp]"
   ]
  },
  {
   "cell_type": "code",
   "execution_count": 12,
   "id": "e97fbffd",
   "metadata": {
    "execution": {
     "iopub.execute_input": "2024-03-09T05:22:34.938226Z",
     "iopub.status.busy": "2024-03-09T05:22:34.937923Z",
     "iopub.status.idle": "2024-03-09T07:26:03.438858Z",
     "shell.execute_reply": "2024-03-09T07:26:03.438089Z"
    },
    "papermill": {
     "duration": 7408.509179,
     "end_time": "2024-03-09T07:26:03.441082",
     "exception": false,
     "start_time": "2024-03-09T05:22:34.931903",
     "status": "completed"
    },
    "tags": []
   },
   "outputs": [
    {
     "name": "stdout",
     "output_type": "stream",
     "text": [
      "Model: \"sequential\"\n",
      "_________________________________________________________________\n",
      " Layer (type)                Output Shape              Param #   \n",
      "=================================================================\n",
      " conv2d (Conv2D)             (None, 48, 48, 64)        1792      \n",
      "                                                                 \n",
      " batch_normalization (Batch  (None, 48, 48, 64)        256       \n",
      " Normalization)                                                  \n",
      "                                                                 \n",
      " max_pooling2d (MaxPooling2  (None, 24, 24, 64)        0         \n",
      " D)                                                              \n",
      "                                                                 \n",
      " conv2d_1 (Conv2D)           (None, 22, 22, 128)       73856     \n",
      "                                                                 \n",
      " batch_normalization_1 (Bat  (None, 22, 22, 128)       512       \n",
      " chNormalization)                                                \n",
      "                                                                 \n",
      " max_pooling2d_1 (MaxPoolin  (None, 11, 11, 128)       0         \n",
      " g2D)                                                            \n",
      "                                                                 \n",
      " conv2d_2 (Conv2D)           (None, 9, 9, 256)         295168    \n",
      "                                                                 \n",
      " batch_normalization_2 (Bat  (None, 9, 9, 256)         1024      \n",
      " chNormalization)                                                \n",
      "                                                                 \n",
      " max_pooling2d_2 (MaxPoolin  (None, 4, 4, 256)         0         \n",
      " g2D)                                                            \n",
      "                                                                 \n",
      " flatten (Flatten)           (None, 4096)              0         \n",
      "                                                                 \n",
      " dense (Dense)               (None, 128)               524416    \n",
      "                                                                 \n",
      " dense_1 (Dense)             (None, 512)               66048     \n",
      "                                                                 \n",
      " dropout (Dropout)           (None, 512)               0         \n",
      "                                                                 \n",
      " dense_2 (Dense)             (None, 1)                 513       \n",
      "                                                                 \n",
      "=================================================================\n",
      "Total params: 963585 (3.68 MB)\n",
      "Trainable params: 962689 (3.67 MB)\n",
      "Non-trainable params: 896 (3.50 KB)\n",
      "_________________________________________________________________\n",
      "Epoch 1/50\n"
     ]
    },
    {
     "name": "stderr",
     "output_type": "stream",
     "text": [
      "WARNING: All log messages before absl::InitializeLog() is called are written to STDERR\n",
      "I0000 00:00:1709961763.396118      85 device_compiler.h:186] Compiled cluster using XLA!  This line is logged at most once for the lifetime of the process.\n"
     ]
    },
    {
     "name": "stdout",
     "output_type": "stream",
     "text": [
      "4336/4337 [============================>.] - ETA: 0s - loss: 0.3430 - accuracy: 0.8547\n",
      "Epoch 1: saving model to /kaggle/output\n",
      "4337/4337 [==============================] - 160s 35ms/step - loss: 0.3430 - accuracy: 0.8547 - val_loss: 0.3925 - val_accuracy: 0.8274 - lr: 1.0000e-04\n",
      "Epoch 2/50\n",
      "4337/4337 [==============================] - ETA: 0s - loss: 0.3068 - accuracy: 0.8702\n",
      "Epoch 2: saving model to /kaggle/output\n",
      "4337/4337 [==============================] - 145s 33ms/step - loss: 0.3068 - accuracy: 0.8702 - val_loss: 0.3003 - val_accuracy: 0.8783 - lr: 1.0000e-04\n",
      "Epoch 3/50\n",
      "4336/4337 [============================>.] - ETA: 0s - loss: 0.2851 - accuracy: 0.8798\n",
      "Epoch 3: saving model to /kaggle/output\n",
      "4337/4337 [==============================] - 146s 34ms/step - loss: 0.2851 - accuracy: 0.8798 - val_loss: 0.3278 - val_accuracy: 0.8784 - lr: 1.0000e-04\n",
      "Epoch 4/50\n",
      "4336/4337 [============================>.] - ETA: 0s - loss: 0.2654 - accuracy: 0.8889\n",
      "Epoch 4: saving model to /kaggle/output\n",
      "4337/4337 [==============================] - 144s 33ms/step - loss: 0.2654 - accuracy: 0.8889 - val_loss: 0.5995 - val_accuracy: 0.6935 - lr: 1.0000e-04\n",
      "Epoch 5/50\n",
      "4336/4337 [============================>.] - ETA: 0s - loss: 0.2421 - accuracy: 0.8991\n",
      "Epoch 5: saving model to /kaggle/output\n",
      "4337/4337 [==============================] - 145s 33ms/step - loss: 0.2421 - accuracy: 0.8991 - val_loss: 0.2964 - val_accuracy: 0.8780 - lr: 1.0000e-04\n",
      "Epoch 6/50\n",
      "4336/4337 [============================>.] - ETA: 0s - loss: 0.2137 - accuracy: 0.9118\n",
      "Epoch 6: saving model to /kaggle/output\n",
      "4337/4337 [==============================] - 147s 34ms/step - loss: 0.2137 - accuracy: 0.9118 - val_loss: 0.2083 - val_accuracy: 0.9171 - lr: 1.0000e-04\n",
      "Epoch 7/50\n",
      "4336/4337 [============================>.] - ETA: 0s - loss: 0.1799 - accuracy: 0.9269\n",
      "Epoch 7: saving model to /kaggle/output\n",
      "4337/4337 [==============================] - 144s 33ms/step - loss: 0.1799 - accuracy: 0.9269 - val_loss: 0.2056 - val_accuracy: 0.9135 - lr: 1.0000e-04\n",
      "Epoch 8/50\n",
      "4336/4337 [============================>.] - ETA: 0s - loss: 0.1451 - accuracy: 0.9422\n",
      "Epoch 8: saving model to /kaggle/output\n",
      "4337/4337 [==============================] - 146s 34ms/step - loss: 0.1451 - accuracy: 0.9422 - val_loss: 0.1733 - val_accuracy: 0.9298 - lr: 1.0000e-04\n",
      "Epoch 9/50\n",
      "4335/4337 [============================>.] - ETA: 0s - loss: 0.1148 - accuracy: 0.9550\n",
      "Epoch 9: saving model to /kaggle/output\n",
      "4337/4337 [==============================] - 146s 34ms/step - loss: 0.1148 - accuracy: 0.9550 - val_loss: 0.2870 - val_accuracy: 0.8876 - lr: 1.0000e-04\n",
      "Epoch 10/50\n",
      "4336/4337 [============================>.] - ETA: 0s - loss: 0.0907 - accuracy: 0.9649\n",
      "Epoch 10: saving model to /kaggle/output\n",
      "4337/4337 [==============================] - 146s 34ms/step - loss: 0.0907 - accuracy: 0.9649 - val_loss: 0.2069 - val_accuracy: 0.9140 - lr: 1.0000e-04\n",
      "Epoch 11/50\n",
      "4336/4337 [============================>.] - ETA: 0s - loss: 0.0744 - accuracy: 0.9713\n",
      "Epoch 11: saving model to /kaggle/output\n",
      "4337/4337 [==============================] - 145s 33ms/step - loss: 0.0744 - accuracy: 0.9713 - val_loss: 0.1565 - val_accuracy: 0.9501 - lr: 1.0000e-04\n",
      "Epoch 12/50\n",
      "4337/4337 [==============================] - ETA: 0s - loss: 0.0618 - accuracy: 0.9768\n",
      "Epoch 12: saving model to /kaggle/output\n",
      "4337/4337 [==============================] - 146s 34ms/step - loss: 0.0618 - accuracy: 0.9768 - val_loss: 0.1324 - val_accuracy: 0.9509 - lr: 1.0000e-04\n",
      "Epoch 13/50\n",
      "4336/4337 [============================>.] - ETA: 0s - loss: 0.0553 - accuracy: 0.9789\n",
      "Epoch 13: saving model to /kaggle/output\n",
      "4337/4337 [==============================] - 144s 33ms/step - loss: 0.0553 - accuracy: 0.9789 - val_loss: 0.0813 - val_accuracy: 0.9694 - lr: 1.0000e-04\n",
      "Epoch 14/50\n",
      "4336/4337 [============================>.] - ETA: 0s - loss: 0.0484 - accuracy: 0.9817\n",
      "Epoch 14: saving model to /kaggle/output\n",
      "4337/4337 [==============================] - 142s 33ms/step - loss: 0.0484 - accuracy: 0.9817 - val_loss: 0.2566 - val_accuracy: 0.9182 - lr: 1.0000e-04\n",
      "Epoch 15/50\n",
      "4336/4337 [============================>.] - ETA: 0s - loss: 0.0433 - accuracy: 0.9838\n",
      "Epoch 15: saving model to /kaggle/output\n",
      "4337/4337 [==============================] - 142s 33ms/step - loss: 0.0433 - accuracy: 0.9838 - val_loss: 0.6051 - val_accuracy: 0.8361 - lr: 1.0000e-04\n",
      "Epoch 16/50\n",
      "4336/4337 [============================>.] - ETA: 0s - loss: 0.0394 - accuracy: 0.9855\n",
      "Epoch 16: saving model to /kaggle/output\n",
      "4337/4337 [==============================] - 143s 33ms/step - loss: 0.0394 - accuracy: 0.9855 - val_loss: 0.2651 - val_accuracy: 0.9299 - lr: 1.0000e-04\n",
      "Epoch 17/50\n",
      "4337/4337 [==============================] - ETA: 0s - loss: 0.0374 - accuracy: 0.9859\n",
      "Epoch 17: saving model to /kaggle/output\n",
      "4337/4337 [==============================] - 145s 33ms/step - loss: 0.0374 - accuracy: 0.9859 - val_loss: 0.1202 - val_accuracy: 0.9581 - lr: 1.0000e-04\n",
      "Epoch 18/50\n",
      "4336/4337 [============================>.] - ETA: 0s - loss: 0.0340 - accuracy: 0.9873\n",
      "Epoch 18: saving model to /kaggle/output\n",
      "4337/4337 [==============================] - 145s 34ms/step - loss: 0.0340 - accuracy: 0.9873 - val_loss: 0.0678 - val_accuracy: 0.9765 - lr: 1.0000e-04\n",
      "Epoch 19/50\n",
      "4336/4337 [============================>.] - ETA: 0s - loss: 0.0323 - accuracy: 0.9878\n",
      "Epoch 19: saving model to /kaggle/output\n",
      "4337/4337 [==============================] - 145s 33ms/step - loss: 0.0323 - accuracy: 0.9878 - val_loss: 0.1188 - val_accuracy: 0.9585 - lr: 1.0000e-04\n",
      "Epoch 20/50\n",
      "4336/4337 [============================>.] - ETA: 0s - loss: 0.0306 - accuracy: 0.9888\n",
      "Epoch 20: saving model to /kaggle/output\n",
      "4337/4337 [==============================] - 146s 34ms/step - loss: 0.0306 - accuracy: 0.9888 - val_loss: 0.1248 - val_accuracy: 0.9594 - lr: 1.0000e-04\n",
      "Epoch 21/50\n",
      "4337/4337 [==============================] - ETA: 0s - loss: 0.0280 - accuracy: 0.9897\n",
      "Epoch 21: saving model to /kaggle/output\n",
      "4337/4337 [==============================] - 147s 34ms/step - loss: 0.0280 - accuracy: 0.9897 - val_loss: 0.1331 - val_accuracy: 0.9550 - lr: 1.0000e-04\n",
      "Epoch 22/50\n",
      "4336/4337 [============================>.] - ETA: 0s - loss: 0.0268 - accuracy: 0.9902\n",
      "Epoch 22: saving model to /kaggle/output\n",
      "4337/4337 [==============================] - 146s 34ms/step - loss: 0.0268 - accuracy: 0.9902 - val_loss: 0.2382 - val_accuracy: 0.9321 - lr: 1.0000e-04\n",
      "Epoch 23/50\n",
      "4337/4337 [==============================] - ETA: 0s - loss: 0.0258 - accuracy: 0.9905\n",
      "Epoch 23: saving model to /kaggle/output\n",
      "4337/4337 [==============================] - 146s 34ms/step - loss: 0.0258 - accuracy: 0.9905 - val_loss: 0.3669 - val_accuracy: 0.9060 - lr: 1.0000e-04\n",
      "Epoch 24/50\n",
      "4336/4337 [============================>.] - ETA: 0s - loss: 0.0247 - accuracy: 0.9911\n",
      "Epoch 24: saving model to /kaggle/output\n",
      "4337/4337 [==============================] - 147s 34ms/step - loss: 0.0247 - accuracy: 0.9911 - val_loss: 0.1339 - val_accuracy: 0.9556 - lr: 1.0000e-04\n",
      "Epoch 25/50\n",
      "4337/4337 [==============================] - ETA: 0s - loss: 0.0236 - accuracy: 0.9912\n",
      "Epoch 25: saving model to /kaggle/output\n",
      "4337/4337 [==============================] - 148s 34ms/step - loss: 0.0236 - accuracy: 0.9912 - val_loss: 0.0806 - val_accuracy: 0.9752 - lr: 1.0000e-04\n",
      "Epoch 26/50\n",
      "4336/4337 [============================>.] - ETA: 0s - loss: 0.0224 - accuracy: 0.9920\n",
      "Epoch 26: saving model to /kaggle/output\n",
      "4337/4337 [==============================] - 145s 33ms/step - loss: 0.0224 - accuracy: 0.9920 - val_loss: 0.1137 - val_accuracy: 0.9654 - lr: 1.0000e-04\n",
      "Epoch 27/50\n",
      "4336/4337 [============================>.] - ETA: 0s - loss: 0.0210 - accuracy: 0.9925\n",
      "Epoch 27: saving model to /kaggle/output\n",
      "4337/4337 [==============================] - 145s 34ms/step - loss: 0.0210 - accuracy: 0.9925 - val_loss: 0.0665 - val_accuracy: 0.9773 - lr: 1.0000e-04\n",
      "Epoch 28/50\n",
      "4336/4337 [============================>.] - ETA: 0s - loss: 0.0213 - accuracy: 0.9923\n",
      "Epoch 28: saving model to /kaggle/output\n",
      "4337/4337 [==============================] - 146s 34ms/step - loss: 0.0213 - accuracy: 0.9923 - val_loss: 0.4094 - val_accuracy: 0.8962 - lr: 1.0000e-04\n",
      "Epoch 29/50\n",
      "4336/4337 [============================>.] - ETA: 0s - loss: 0.0197 - accuracy: 0.9930\n",
      "Epoch 29: saving model to /kaggle/output\n",
      "4337/4337 [==============================] - 152s 35ms/step - loss: 0.0197 - accuracy: 0.9930 - val_loss: 0.1318 - val_accuracy: 0.9581 - lr: 1.0000e-04\n",
      "Epoch 30/50\n",
      "4336/4337 [============================>.] - ETA: 0s - loss: 0.0195 - accuracy: 0.9929\n",
      "Epoch 30: saving model to /kaggle/output\n",
      "4337/4337 [==============================] - 147s 34ms/step - loss: 0.0195 - accuracy: 0.9929 - val_loss: 0.2396 - val_accuracy: 0.9361 - lr: 1.0000e-04\n",
      "Epoch 31/50\n",
      "4336/4337 [============================>.] - ETA: 0s - loss: 0.0185 - accuracy: 0.9934\n",
      "Epoch 31: saving model to /kaggle/output\n",
      "4337/4337 [==============================] - 147s 34ms/step - loss: 0.0185 - accuracy: 0.9934 - val_loss: 0.1468 - val_accuracy: 0.9650 - lr: 1.0000e-04\n",
      "Epoch 32/50\n",
      "4336/4337 [============================>.] - ETA: 0s - loss: 0.0182 - accuracy: 0.9934\n",
      "Epoch 32: saving model to /kaggle/output\n",
      "4337/4337 [==============================] - 145s 33ms/step - loss: 0.0182 - accuracy: 0.9934 - val_loss: 0.0807 - val_accuracy: 0.9748 - lr: 1.0000e-04\n",
      "Epoch 33/50\n",
      "4337/4337 [==============================] - ETA: 0s - loss: 0.0175 - accuracy: 0.9937\n",
      "Epoch 33: saving model to /kaggle/output\n",
      "4337/4337 [==============================] - 146s 34ms/step - loss: 0.0175 - accuracy: 0.9937 - val_loss: 0.1494 - val_accuracy: 0.9669 - lr: 1.0000e-04\n",
      "Epoch 34/50\n",
      "4336/4337 [============================>.] - ETA: 0s - loss: 0.0171 - accuracy: 0.9936\n",
      "Epoch 34: saving model to /kaggle/output\n",
      "4337/4337 [==============================] - 145s 33ms/step - loss: 0.0171 - accuracy: 0.9936 - val_loss: 0.0721 - val_accuracy: 0.9748 - lr: 1.0000e-04\n",
      "Epoch 35/50\n",
      "4336/4337 [============================>.] - ETA: 0s - loss: 0.0168 - accuracy: 0.9940\n",
      "Epoch 35: saving model to /kaggle/output\n",
      "4337/4337 [==============================] - 145s 33ms/step - loss: 0.0168 - accuracy: 0.9939 - val_loss: 0.2713 - val_accuracy: 0.9524 - lr: 1.0000e-04\n",
      "Epoch 36/50\n",
      "4337/4337 [==============================] - ETA: 0s - loss: 0.0155 - accuracy: 0.9945\n",
      "Epoch 36: saving model to /kaggle/output\n",
      "4337/4337 [==============================] - 146s 34ms/step - loss: 0.0155 - accuracy: 0.9945 - val_loss: 0.0425 - val_accuracy: 0.9852 - lr: 1.0000e-04\n",
      "Epoch 37/50\n",
      "4336/4337 [============================>.] - ETA: 0s - loss: 0.0155 - accuracy: 0.9945\n",
      "Epoch 37: saving model to /kaggle/output\n",
      "4337/4337 [==============================] - 146s 34ms/step - loss: 0.0155 - accuracy: 0.9945 - val_loss: 0.2708 - val_accuracy: 0.9340 - lr: 1.0000e-04\n",
      "Epoch 38/50\n",
      "4337/4337 [==============================] - ETA: 0s - loss: 0.0149 - accuracy: 0.9945\n",
      "Epoch 38: saving model to /kaggle/output\n",
      "4337/4337 [==============================] - 145s 33ms/step - loss: 0.0149 - accuracy: 0.9945 - val_loss: 0.3207 - val_accuracy: 0.9246 - lr: 1.0000e-04\n",
      "Epoch 39/50\n",
      "4336/4337 [============================>.] - ETA: 0s - loss: 0.0148 - accuracy: 0.9948\n",
      "Epoch 39: saving model to /kaggle/output\n",
      "4337/4337 [==============================] - 143s 33ms/step - loss: 0.0148 - accuracy: 0.9948 - val_loss: 0.2424 - val_accuracy: 0.9267 - lr: 1.0000e-04\n",
      "Epoch 40/50\n",
      "4337/4337 [==============================] - ETA: 0s - loss: 0.0140 - accuracy: 0.9951\n",
      "Epoch 40: saving model to /kaggle/output\n",
      "4337/4337 [==============================] - 144s 33ms/step - loss: 0.0140 - accuracy: 0.9951 - val_loss: 0.0744 - val_accuracy: 0.9742 - lr: 1.0000e-04\n",
      "Epoch 41/50\n",
      "4336/4337 [============================>.] - ETA: 0s - loss: 0.0144 - accuracy: 0.9948\n",
      "Epoch 41: saving model to /kaggle/output\n",
      "4337/4337 [==============================] - 145s 34ms/step - loss: 0.0144 - accuracy: 0.9948 - val_loss: 0.0479 - val_accuracy: 0.9830 - lr: 1.0000e-04\n",
      "Epoch 42/50\n",
      "4337/4337 [==============================] - ETA: 0s - loss: 0.0136 - accuracy: 0.9952\n",
      "Epoch 42: saving model to /kaggle/output\n",
      "4337/4337 [==============================] - 145s 33ms/step - loss: 0.0136 - accuracy: 0.9952 - val_loss: 0.0578 - val_accuracy: 0.9803 - lr: 1.0000e-04\n",
      "Epoch 43/50\n",
      "4337/4337 [==============================] - ETA: 0s - loss: 0.0134 - accuracy: 0.9953\n",
      "Epoch 43: saving model to /kaggle/output\n",
      "4337/4337 [==============================] - 147s 34ms/step - loss: 0.0134 - accuracy: 0.9953 - val_loss: 0.2192 - val_accuracy: 0.9406 - lr: 1.0000e-04\n",
      "Epoch 44/50\n",
      "4336/4337 [============================>.] - ETA: 0s - loss: 0.0129 - accuracy: 0.9954\n",
      "Epoch 44: saving model to /kaggle/output\n",
      "4337/4337 [==============================] - 146s 34ms/step - loss: 0.0129 - accuracy: 0.9954 - val_loss: 0.2881 - val_accuracy: 0.9391 - lr: 1.0000e-04\n",
      "Epoch 45/50\n",
      "4336/4337 [============================>.] - ETA: 0s - loss: 0.0128 - accuracy: 0.9955\n",
      "Epoch 45: saving model to /kaggle/output\n",
      "4337/4337 [==============================] - 147s 34ms/step - loss: 0.0128 - accuracy: 0.9955 - val_loss: 0.2902 - val_accuracy: 0.9471 - lr: 1.0000e-04\n",
      "Epoch 46/50\n",
      "4336/4337 [============================>.] - ETA: 0s - loss: 0.0130 - accuracy: 0.9954\n",
      "Epoch 46: ReduceLROnPlateau reducing learning rate to 9.999999747378752e-06.\n",
      "\n",
      "Epoch 46: saving model to /kaggle/output\n",
      "4337/4337 [==============================] - 145s 33ms/step - loss: 0.0131 - accuracy: 0.9954 - val_loss: 0.1299 - val_accuracy: 0.9717 - lr: 1.0000e-04\n",
      "Epoch 47/50\n",
      "4337/4337 [==============================] - ETA: 0s - loss: 0.0045 - accuracy: 0.9985\n",
      "Epoch 47: saving model to /kaggle/output\n",
      "4337/4337 [==============================] - 146s 34ms/step - loss: 0.0045 - accuracy: 0.9985 - val_loss: 8.2766e-04 - val_accuracy: 0.9999 - lr: 1.0000e-05\n",
      "Epoch 48/50\n",
      "4336/4337 [============================>.] - ETA: 0s - loss: 0.0017 - accuracy: 0.9995\n",
      "Epoch 48: saving model to /kaggle/output\n",
      "4337/4337 [==============================] - 146s 34ms/step - loss: 0.0017 - accuracy: 0.9995 - val_loss: 3.1869e-04 - val_accuracy: 1.0000 - lr: 1.0000e-05\n",
      "Epoch 49/50\n",
      "4337/4337 [==============================] - ETA: 0s - loss: 9.1392e-04 - accuracy: 0.9998\n",
      "Epoch 49: saving model to /kaggle/output\n",
      "4337/4337 [==============================] - 146s 34ms/step - loss: 9.1392e-04 - accuracy: 0.9998 - val_loss: 2.2197e-04 - val_accuracy: 1.0000 - lr: 1.0000e-05\n",
      "Epoch 50/50\n",
      "4336/4337 [============================>.] - ETA: 0s - loss: 6.2838e-04 - accuracy: 0.9999\n",
      "Epoch 50: saving model to /kaggle/output\n",
      "4337/4337 [==============================] - 147s 34ms/step - loss: 6.2824e-04 - accuracy: 0.9999 - val_loss: 8.0146e-04 - val_accuracy: 0.9998 - lr: 1.0000e-05\n"
     ]
    }
   ],
   "source": [
    "model,callbacks=create_model((50,50,3))\n",
    "model.summary()\n",
    "#Fit model\n",
    "history = model.fit(\n",
    "      train_generator,\n",
    "      epochs=50,\n",
    "      verbose=1,\n",
    "      validation_data = validation_generator,callbacks=callbacks)\n"
   ]
  },
  {
   "cell_type": "code",
   "execution_count": 13,
   "id": "f4d1a988",
   "metadata": {
    "execution": {
     "iopub.execute_input": "2024-03-09T07:26:21.329838Z",
     "iopub.status.busy": "2024-03-09T07:26:21.328904Z",
     "iopub.status.idle": "2024-03-09T07:26:21.610620Z",
     "shell.execute_reply": "2024-03-09T07:26:21.609604Z"
    },
    "papermill": {
     "duration": 9.365733,
     "end_time": "2024-03-09T07:26:21.612780",
     "exception": false,
     "start_time": "2024-03-09T07:26:12.247047",
     "status": "completed"
    },
    "tags": []
   },
   "outputs": [
    {
     "data": {
      "image/png": "[encoded data removed]",
      "text/plain": [
       "<Figure size 640x480 with 1 Axes>"
      ]
     },
     "metadata": {},
     "output_type": "display_data"
    }
   ],
   "source": [
    "import matplotlib.pyplot as plt\n",
    "acc = history.history['accuracy']\n",
    "val_acc = history.history['val_accuracy']\n",
    "loss = history.history['loss']\n",
    "val_loss = history.history['val_loss']\n",
    "\n",
    "epochs = range(len(acc))\n",
    "plt.plot(epochs, acc, 'r', label='Training accuracy', markersize=5)\n",
    "plt.plot(epochs, val_acc, 'b', label='Validation accuracy', markersize=5)\n",
    "plt.grid(True)\n",
    "plt.xlabel('Epochs', fontsize=12, fontweight='bold')  # Bold and increase font size for x-axis label\n",
    "plt.ylabel('Accuracy', fontsize=12, fontweight='bold')  # Bold and increase font size for y-axis label\n",
    "plt.legend(loc='lower right')\n",
    "plt.show()\n"
   ]
  },
  {
   "cell_type": "code",
   "execution_count": 14,
   "id": "ffa89ca6",
   "metadata": {
    "execution": {
     "iopub.execute_input": "2024-03-09T07:26:39.459012Z",
     "iopub.status.busy": "2024-03-09T07:26:39.458592Z",
     "iopub.status.idle": "2024-03-09T07:26:39.657019Z",
     "shell.execute_reply": "2024-03-09T07:26:39.656186Z"
    },
    "papermill": {
     "duration": 9.235011,
     "end_time": "2024-03-09T07:26:39.658971",
     "exception": false,
     "start_time": "2024-03-09T07:26:30.423960",
     "status": "completed"
    },
    "tags": []
   },
   "outputs": [
    {
     "data": {
      "image/png": "[encoded data removed]",
      "text/plain": [
       "<Figure size 640x480 with 1 Axes>"
      ]
     },
     "metadata": {},
     "output_type": "display_data"
    }
   ],
   "source": [
    "plt.plot(epochs, loss, 'r', label='Training loss', markersize=5)  # Increase markersize\n",
    "plt.plot(epochs, val_loss, 'b', label='Validation loss', markersize=5)  # Increase markersize\n",
    "plt.xlabel('Epochs', fontsize=12, fontweight='bold')  # Bold and increase font size for x-axis label\n",
    "plt.ylabel('Accuracy', fontsize=12, fontweight='bold')  # Bold and increase font size for y-axis label\n",
    "plt.grid(True)  # Turn on grid\n",
    "plt.legend(loc=0)\n",
    "plt.show()"
   ]
  }
 ],
 "metadata": {
  "kaggle": {
   "accelerator": "nvidiaTeslaT4",
   "dataSources": [
    {
     "datasetId": 7415,
     "sourceId": 10564,
     "sourceType": "datasetVersion"
    }
   ],
   "dockerImageVersionId": 30648,
   "isGpuEnabled": true,
   "isInternetEnabled": true,
   "language": "python",
   "sourceType": "notebook"
  },
  "kernelspec": {
   "display_name": "Python 3",
   "language": "python",
   "name": "python3"
  },
  "language_info": {
   "codemirror_mode": {
    "name": "ipython",
    "version": 3
   },
   "file_extension": ".py",
   "mimetype": "text/x-python",
   "name": "python",
   "nbconvert_exporter": "python",
   "pygments_lexer": "ipython3",
   "version": "3.10.13"
  },
  "papermill": {
   "default_parameters": {},
   "duration": 9592.955949,
   "end_time": "2024-03-09T07:26:52.115098",
   "environment_variables": {},
   "exception": null,
   "input_path": "__notebook__.ipynb",
   "output_path": "__notebook__.ipynb",
   "parameters": {},
   "start_time": "2024-03-09T04:46:59.159149",
   "version": "2.5.0"
  }
 },
 "nbformat": 4,
 "nbformat_minor": 5
}
